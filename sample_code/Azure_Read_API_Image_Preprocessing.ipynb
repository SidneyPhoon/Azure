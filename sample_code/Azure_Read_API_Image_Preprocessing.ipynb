{
 "cells": [
  {
   "cell_type": "markdown",
   "source": [
    "## Improve OCR Results with OpenCV Image Filtering"
   ],
   "metadata": {}
  },
  {
   "cell_type": "markdown",
   "source": [
    "Image Filtering is changing the appearance of an image.  In the context of OCR(Optical Character Recognition), we can apply image filtering to reduce the noise around the characters in order to achieve a higher success rate of OCR versus unfiltered images.\n",
    "\n",
    "This notebook applies \"Gaussian Blur\" image filtering to an image, then calls the [Azure Computer Vision Read API](https://docs.microsoft.com/en-us/azure/cognitive-services/computer-vision/vision-api-how-to-topics/call-read-api) to OCR the image.  For challenging cases, this image pre-processing steps improves on the OCR results."
   ],
   "metadata": {}
  },
  {
   "cell_type": "markdown",
   "source": [
    " **References**:<br/>\n",
    " 1. https://github.com/RoshanTanisha/OpenCVExamples\n",
    " 2. https://learnopencv.com/image-filtering-using-convolution-in-opencv/"
   ],
   "metadata": {}
  },
  {
   "cell_type": "code",
   "execution_count": null,
   "source": [
    "conda install -c menpo opencv"
   ],
   "outputs": [],
   "metadata": {}
  },
  {
   "cell_type": "code",
   "execution_count": null,
   "source": [
    "pip install --upgrade pip"
   ],
   "outputs": [],
   "metadata": {}
  },
  {
   "cell_type": "code",
   "execution_count": null,
   "source": [
    "pip install opencv-contrib-python"
   ],
   "outputs": [],
   "metadata": {}
  },
  {
   "cell_type": "code",
   "execution_count": null,
   "source": [
    "import os, sys, math\r\n",
    "import cv2\r\n",
    "import numpy as np\r\n",
    "import matplotlib.pyplot as plt\r\n",
    "import requests\r\n",
    "import json"
   ],
   "outputs": [],
   "metadata": {}
  },
  {
   "cell_type": "code",
   "execution_count": null,
   "source": [
    "data_dir_path = os.path.join(os.path.dirname(os.getcwd()), 'code')"
   ],
   "outputs": [],
   "metadata": {}
  },
  {
   "cell_type": "code",
   "execution_count": null,
   "source": [
    "# supported image formats, see https://docs.opencv.org/4.5.3/d4/da8/group__imgcodecs.html#ga288b8b3da0892bd651fce07b3bbd3a56\r\n",
    "\r\n",
    "def read_image(image_path):\r\n",
    "    image = cv2.imread(image_path)\r\n",
    "    return image"
   ],
   "outputs": [],
   "metadata": {}
  },
  {
   "cell_type": "code",
   "execution_count": null,
   "source": [
    "def save_image(image, image_name):\r\n",
    "    cv2.imwrite(os.path.join(data_dir_path, image_name), image)"
   ],
   "outputs": [],
   "metadata": {}
  },
  {
   "cell_type": "code",
   "execution_count": null,
   "source": [
    "# note - OpenCV uses BGR image format. So, when we read an image using cv2.imread() it interprets in BGR format by default.\r\n",
    "\r\n",
    "def convertBGR2RGB(image):\r\n",
    "    return cv2.cvtColor(image, cv2.COLOR_BGR2RGB)"
   ],
   "outputs": [],
   "metadata": {}
  },
  {
   "cell_type": "code",
   "execution_count": null,
   "source": [
    "def convertBGR2GRAY(image):\r\n",
    "    bw_img = cv2.cvtColor(image, cv2.COLOR_BGR2GRAY)\r\n",
    "    return cv2.cvtColor(bw_img, cv2.COLOR_GRAY2BGR)"
   ],
   "outputs": [],
   "metadata": {}
  },
  {
   "cell_type": "code",
   "execution_count": null,
   "source": [
    "def show_image(image):\r\n",
    "    plt.imshow(image)\r\n",
    "    plt.show()\r\n",
    "    cv2.destroyAllWindows()"
   ],
   "outputs": [],
   "metadata": {}
  },
  {
   "cell_type": "code",
   "execution_count": null,
   "source": [
    "def plot_image(image):\r\n",
    "    plt.figure(figsize=(10, 10))\r\n",
    "    plt.imshow(img)"
   ],
   "outputs": [],
   "metadata": {}
  },
  {
   "cell_type": "code",
   "execution_count": null,
   "source": [
    "# https://learnopencv.com/opencv-threshold-python-cpp/\r\n",
    "# pure black=0, pure white=255\r\n",
    "\r\n",
    "def apply_thresholding(image):\r\n",
    "    _, thresholded_image = cv2.threshold(image, thresh=40, maxval=255, type=cv2.THRESH_BINARY)\r\n",
    "    return thresholded_image"
   ],
   "outputs": [],
   "metadata": {}
  },
  {
   "cell_type": "code",
   "execution_count": null,
   "source": [
    "def transform(image, transform_type):\r\n",
    "    \r\n",
    "    kwargs = {\r\n",
    "        'Laplacian': {\r\n",
    "            'ddepth': cv2.CV_64F\r\n",
    "        }\r\n",
    "    }\r\n",
    "    \r\n",
    "    return getattr(cv2, transform_type)(image, **kwargs[transform_type])"
   ],
   "outputs": [],
   "metadata": {}
  },
  {
   "cell_type": "code",
   "execution_count": null,
   "source": [
    "# https://learnopencv.com/image-filtering-using-convolution-in-opencv/#gauss-blur-opencv\r\n",
    "# \"blurring\" is also known as \"smoothing\" to remove noise from an image\r\n",
    "\r\n",
    "def apply_gaussian_blur(image):\r\n",
    "    return cv2.GaussianBlur(image, (5, 5), 0)"
   ],
   "outputs": [],
   "metadata": {}
  },
  {
   "cell_type": "code",
   "execution_count": null,
   "source": [
    "\"\"\"\r\n",
    "Apply sharpening using kernel\r\n",
    "\"\"\"\r\n",
    "def apply_filter2D(image):\r\n",
    "    kernel3 = np.array([[0, -1,  0],\r\n",
    "                        [-1,  5, -1],\r\n",
    "                        [0, -1,  0]])\r\n",
    "    return cv2.filter2D(src=image, ddepth=-1, kernel=kernel3)"
   ],
   "outputs": [],
   "metadata": {}
  },
  {
   "cell_type": "code",
   "execution_count": null,
   "source": [
    "def apply_bilateral_filter(image):\r\n",
    "    return cv2.bilateralFilter(image, 9, 75, 75)"
   ],
   "outputs": [],
   "metadata": {}
  },
  {
   "cell_type": "code",
   "execution_count": null,
   "source": [
    "def canny_edges(image):\r\n",
    "    return cv2.Canny(image, 100, 200)"
   ],
   "outputs": [],
   "metadata": {}
  },
  {
   "cell_type": "code",
   "execution_count": null,
   "source": [
    "# let's upscale the image using new  width and height\r\n",
    "def size_up(image, up_width, up_height):\r\n",
    "    #up_width = 600\r\n",
    "    #up_height = 400\r\n",
    "    up_points = (up_width, up_height)\r\n",
    "    return cv2.resize(image, up_points, interpolation= cv2.INTER_LINEAR)"
   ],
   "outputs": [],
   "metadata": {}
  },
  {
   "cell_type": "code",
   "execution_count": null,
   "source": [
    "# Scaling Up the image 1.2 times by specifying both scaling factors\r\n",
    "# e.g. scale_up_x = 1.2, scale_up_y = 1.2\r\n",
    "# Resizing with scaling factor, it helps keep the aspect ratio intact and preserves the display quality\r\n",
    "def scale_up(image, scale_up_x, scale_up_y):\r\n",
    "    return cv2.resize(image, None, fx= scale_up_x, fy= scale_up_y, interpolation= cv2.INTER_LINEAR)"
   ],
   "outputs": [],
   "metadata": {}
  },
  {
   "cell_type": "markdown",
   "source": [
    "### Apply Image Filter"
   ],
   "metadata": {}
  },
  {
   "cell_type": "code",
   "execution_count": null,
   "source": [
    "filename = '10472-7.tif'\r\n",
    "img = read_image(os.path.join(data_dir_path, filename))"
   ],
   "outputs": [],
   "metadata": {}
  },
  {
   "cell_type": "code",
   "execution_count": null,
   "source": [
    "show_image(img)"
   ],
   "outputs": [],
   "metadata": {}
  },
  {
   "cell_type": "code",
   "execution_count": null,
   "source": [
    "filtered_img = apply_gaussian_blur(img)\r\n",
    "show_image(filtered_img)"
   ],
   "outputs": [],
   "metadata": {}
  },
  {
   "cell_type": "code",
   "execution_count": null,
   "source": [
    "# Read image from file system\r\n",
    "#img = cv2.imread(filename)"
   ],
   "outputs": [],
   "metadata": {}
  },
  {
   "cell_type": "code",
   "execution_count": null,
   "source": [
    "# encode image as tif\r\n",
    "_, img_encoded = cv2.imencode('.tiff', filtered_img)"
   ],
   "outputs": [],
   "metadata": {}
  },
  {
   "cell_type": "markdown",
   "source": [
    "## Call the [Read API](https://docs.microsoft.com/en-us/azure/cognitive-services/computer-vision/vision-api-how-to-topics/call-read-api) with image file and process the results by extracting the lines into a text file"
   ],
   "metadata": {}
  },
  {
   "cell_type": "code",
   "execution_count": null,
   "source": [
    "# Get environment variables\r\n",
    "computer_vision_key = os.getenv('COMPUTER_VISION_KEY')\r\n"
   ],
   "outputs": [],
   "metadata": {}
  },
  {
   "cell_type": "code",
   "execution_count": null,
   "source": [
    "# Request headers.\r\n",
    "headers = {\r\n",
    "    'Content-Type': 'image/tiff',\r\n",
    "    'Ocp-Apim-Subscription-Key': computer_vision_key\r\n",
    "}"
   ],
   "outputs": [],
   "metadata": {}
  },
  {
   "cell_type": "code",
   "execution_count": null,
   "source": [
    "vision_url = 'https://westus2.api.cognitive.microsoft.com/vision/v3.2/read/analyze?readingOrder=natural'"
   ],
   "outputs": [],
   "metadata": {}
  },
  {
   "cell_type": "markdown",
   "source": [
    "### Make the API call"
   ],
   "metadata": {}
  },
  {
   "cell_type": "code",
   "execution_count": null,
   "source": [
    "# send http request with image and receive response\r\n",
    "response = requests.post(vision_url, data=img_encoded.tostring(), headers=headers)"
   ],
   "outputs": [],
   "metadata": {}
  },
  {
   "cell_type": "code",
   "execution_count": null,
   "source": [
    "#print(response.headers['Operation-Location'])"
   ],
   "outputs": [],
   "metadata": {}
  },
  {
   "cell_type": "code",
   "execution_count": null,
   "source": [
    "get_results_url = response.headers['Operation-Location']"
   ],
   "outputs": [],
   "metadata": {}
  },
  {
   "cell_type": "markdown",
   "source": [
    "###  Get the results"
   ],
   "metadata": {}
  },
  {
   "cell_type": "code",
   "execution_count": null,
   "source": [
    "results_response = requests.get(get_results_url, headers=headers)"
   ],
   "outputs": [],
   "metadata": {}
  },
  {
   "cell_type": "code",
   "execution_count": null,
   "source": [
    "json_file = results_response.content.decode('utf-8')"
   ],
   "outputs": [],
   "metadata": {}
  },
  {
   "cell_type": "code",
   "execution_count": null,
   "source": [
    "data = json.loads(json_file)"
   ],
   "outputs": [],
   "metadata": {}
  },
  {
   "cell_type": "code",
   "execution_count": null,
   "source": [
    "lines = data['analyzeResult']['readResults'][0]['lines']"
   ],
   "outputs": [],
   "metadata": {}
  },
  {
   "cell_type": "code",
   "execution_count": null,
   "source": [
    "for line in lines:\r\n",
    "    print(line['text'])"
   ],
   "outputs": [],
   "metadata": {}
  },
  {
   "cell_type": "markdown",
   "source": [
    "### Write the results into a text file"
   ],
   "metadata": {}
  },
  {
   "cell_type": "code",
   "execution_count": null,
   "source": [
    "text_filename = filename + '_microsoft.txt'\r\n",
    "\r\n",
    "with open(text_filename, 'w') as f:\r\n",
    "    for line in lines:\r\n",
    "        print(line['text'])\r\n",
    "        f.write(line['text'])\r\n",
    "        f.write('\\n')"
   ],
   "outputs": [],
   "metadata": {}
  },
  {
   "cell_type": "markdown",
   "source": [
    "**Author**: Sidney Phoon <br/>\n",
    "**Date**: Sept 30, 2021"
   ],
   "metadata": {}
  }
 ],
 "metadata": {
  "interpreter": {
   "hash": "742b31ed29b98b6e2279d775be616e65081b5bbb3a8899d322ded58be8b1f7cc"
  },
  "kernelspec": {
   "display_name": "Python 3",
   "language": "python",
   "name": "python3"
  },
  "language_info": {
   "codemirror_mode": {
    "name": "ipython",
    "version": 3
   },
   "file_extension": ".py",
   "mimetype": "text/x-python",
   "name": "python",
   "nbconvert_exporter": "python",
   "pygments_lexer": "ipython3",
   "version": "3.8.3"
  }
 },
 "nbformat": 4,
 "nbformat_minor": 2
}
